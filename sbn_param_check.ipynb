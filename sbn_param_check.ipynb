{
 "cells": [
  {
   "cell_type": "code",
   "id": "initial_id",
   "metadata": {
    "collapsed": true,
    "ExecuteTime": {
     "end_time": "2025-01-08T22:30:15.487695Z",
     "start_time": "2025-01-08T22:30:15.334303Z"
    }
   },
   "source": [
    "import numpy as np\n",
    "import copy\n",
    "from Bio import Phylo\n",
    "from io import StringIO\n",
    "# from cStringIO import StringIO\n",
    "from ete3 import Tree\n",
    "from bitarray import bitarray\n",
    "from treeManipulation import init, namenum, nametaxon\n",
    "from collections import defaultdict, OrderedDict"
   ],
   "outputs": [],
   "execution_count": 1
  },
  {
   "metadata": {
    "ExecuteTime": {
     "end_time": "2025-01-08T22:30:15.652880Z",
     "start_time": "2025-01-08T22:30:15.649351Z"
    }
   },
   "cell_type": "code",
   "source": [
    "class BitArray(object):\n",
    "    def __init__(self, taxa):\n",
    "        self.taxa = taxa\n",
    "        self.ntaxa = len(taxa)\n",
    "        self.map = {taxon: i for i, taxon in enumerate(taxa)}\n",
    "\n",
    "    def combine(self, arrA, arrB):\n",
    "        if arrA < arrB:\n",
    "            return arrA + arrB\n",
    "        else:\n",
    "            return arrB + arrA\n",
    "\n",
    "    def merge(self, key):\n",
    "        return bitarray(key[:self.ntaxa]) | bitarray(key[self.ntaxa:])\n",
    "\n",
    "    def decomp_minor(self, key):\n",
    "        return min(bitarray(key[:self.ntaxa]), bitarray(key[self.ntaxa:]))\n",
    "\n",
    "    def minor(self, arrA):\n",
    "        return min(arrA, ~arrA)\n",
    "\n",
    "    def from_clade(self, clade):\n",
    "        bit_list = ['0'] * self.ntaxa\n",
    "        for taxon in clade:\n",
    "            bit_list[self.map[taxon]] = '1'\n",
    "        return bitarray(''.join(bit_list))\n"
   ],
   "id": "8a7eab2150a53098",
   "outputs": [],
   "execution_count": 2
  },
  {
   "metadata": {
    "ExecuteTime": {
     "end_time": "2025-01-08T22:30:16.236647Z",
     "start_time": "2025-01-08T22:30:16.231071Z"
    }
   },
   "cell_type": "code",
   "source": [
    "def get_support_from_mcmc(taxa, tree_dict_total, tree_names_total, tree_wts_total=None):\n",
    "    rootsplit_supp_dict = OrderedDict()\n",
    "    subsplit_supp_dict = OrderedDict()\n",
    "    toBitArr = BitArray(taxa)\n",
    "    for i, tree_name in enumerate(tree_names_total):\n",
    "        tree = tree_dict_total[tree_name]\n",
    "        wts = tree_wts_total[i] if tree_wts_total else 1.0\n",
    "        nodetobitMap = {node:toBitArr.from_clade(node.get_leaf_names()) for node in tree.traverse('postorder') if not node.is_root()}\n",
    "        for node in tree.traverse('levelorder'):\n",
    "            if not node.is_root():\n",
    "                rootsplit = toBitArr.minor(nodetobitMap[node]).to01()\n",
    "                # rootsplit_supp_dict[rootsplit] += wts\n",
    "                if rootsplit not in rootsplit_supp_dict:\n",
    "                    rootsplit_supp_dict[rootsplit] = 0.0\n",
    "                rootsplit_supp_dict[rootsplit] += wts\n",
    "                if not node.is_leaf():\n",
    "                    child_subsplit = min([nodetobitMap[child] for child in node.children]).to01()\n",
    "                    for sister in node.get_sisters():\n",
    "                        parent_subsplit = (nodetobitMap[sister] + nodetobitMap[node]).to01()\n",
    "                        if parent_subsplit not in subsplit_supp_dict:\n",
    "                            subsplit_supp_dict[parent_subsplit] = OrderedDict()\n",
    "                        if child_subsplit not in subsplit_supp_dict[parent_subsplit]:\n",
    "                            subsplit_supp_dict[parent_subsplit][child_subsplit] = 0.0\n",
    "                        subsplit_supp_dict[parent_subsplit][child_subsplit] += wts\n",
    "                    if not node.up.is_root():\n",
    "                        parent_subsplit = (~nodetobitMap[node.up] + nodetobitMap[node]).to01()\n",
    "                        if parent_subsplit not in subsplit_supp_dict:\n",
    "                            subsplit_supp_dict[parent_subsplit] = OrderedDict()\n",
    "                        if child_subsplit not in subsplit_supp_dict[parent_subsplit]:\n",
    "                            subsplit_supp_dict[parent_subsplit][child_subsplit] = 0.0\n",
    "                        subsplit_supp_dict[parent_subsplit][child_subsplit] += wts\n",
    "\n",
    "                    parent_subsplit = (~nodetobitMap[node] + nodetobitMap[node]).to01()\n",
    "                    if parent_subsplit not in subsplit_supp_dict:\n",
    "                        subsplit_supp_dict[parent_subsplit] = OrderedDict()\n",
    "                    if child_subsplit not in subsplit_supp_dict[parent_subsplit]:\n",
    "                        subsplit_supp_dict[parent_subsplit][child_subsplit] = 0.0\n",
    "                    subsplit_supp_dict[parent_subsplit][child_subsplit] += wts\n",
    "\n",
    "                if not node.up.is_root():\n",
    "                    bipart_bitarr = min([nodetobitMap[sister] for sister in node.get_sisters()] + [~nodetobitMap[node.up]])\n",
    "                else:\n",
    "                    bipart_bitarr = min([nodetobitMap[sister] for sister in node.get_sisters()])\n",
    "                child_subsplit = bipart_bitarr.to01()\n",
    "                if not node.is_leaf():\n",
    "                    for child in node.children:\n",
    "                        parent_subsplit = (nodetobitMap[child] + ~nodetobitMap[node]).to01()\n",
    "                        if parent_subsplit not in subsplit_supp_dict:\n",
    "                            subsplit_supp_dict[parent_subsplit] = OrderedDict()\n",
    "                        if child_subsplit not in subsplit_supp_dict[parent_subsplit]:\n",
    "                            subsplit_supp_dict[parent_subsplit][child_subsplit] = 0.0\n",
    "                        subsplit_supp_dict[parent_subsplit][child_subsplit] += wts\n",
    "\n",
    "                parent_subsplit = (nodetobitMap[node] + ~nodetobitMap[node]).to01()\n",
    "                if parent_subsplit not in subsplit_supp_dict:\n",
    "                    subsplit_supp_dict[parent_subsplit] = OrderedDict()\n",
    "                if child_subsplit not in subsplit_supp_dict[parent_subsplit]:\n",
    "                    subsplit_supp_dict[parent_subsplit][child_subsplit] = 0.0\n",
    "                subsplit_supp_dict[parent_subsplit][child_subsplit] += wts\n",
    "\n",
    "    return rootsplit_supp_dict, subsplit_supp_dict"
   ],
   "id": "206c5ee8e0411363",
   "outputs": [],
   "execution_count": 3
  },
  {
   "metadata": {
    "ExecuteTime": {
     "end_time": "2025-01-08T22:30:16.965149Z",
     "start_time": "2025-01-08T22:30:16.962176Z"
    }
   },
   "cell_type": "code",
   "source": [
    "def summary_raw(file_path, truncate=None, hpd=0.95, n_rep=10):\n",
    "    tree_dict_total = {}\n",
    "    tree_id_set_total = set()\n",
    "    tree_names_total = []\n",
    "    n_samp_tree = 0\n",
    "\n",
    "\n",
    "    tree_dict_rep, tree_names_rep, tree_wts_rep = get_tree_list_raw(file_path, truncate=truncate, hpd=hpd)\n",
    "    for j, name in enumerate(tree_names_rep):\n",
    "        tree_id = tree_dict_rep[name].get_topology_id()\n",
    "        if tree_id not in tree_id_set_total:\n",
    "            n_samp_tree += 1\n",
    "            tree_names_total.append('tree_{}'.format(n_samp_tree))\n",
    "            tree_dict_total[tree_names_total[-1]] = tree_dict_rep[name]\n",
    "            tree_id_set_total.add(tree_id)\n",
    "\n",
    "    return tree_dict_total, tree_names_total"
   ],
   "id": "da601cdbb048cd1f",
   "outputs": [],
   "execution_count": 4
  },
  {
   "metadata": {
    "ExecuteTime": {
     "end_time": "2025-01-08T22:30:17.760192Z",
     "start_time": "2025-01-08T22:30:17.756369Z"
    }
   },
   "cell_type": "code",
   "source": [
    "def get_tree_list_raw(filename, burnin=0, truncate=None, hpd=0.95):\n",
    "    tree_dict = {}\n",
    "    tree_wts_dict = defaultdict(float)\n",
    "    tree_names = []\n",
    "    i, num_trees = 0, 0\n",
    "    with open(filename, 'r') as input_file:\n",
    "        while True:\n",
    "            line = input_file.readline()\n",
    "            if line == \"\":\n",
    "                break\n",
    "            num_trees += 1\n",
    "            if num_trees < burnin:\n",
    "                continue\n",
    "            tree = Tree(line.strip())\n",
    "            tree_id = tree.get_topology_id()\n",
    "            if tree_id not in tree_wts_dict:\n",
    "                tree_name = 'tree_{}'.format(i)\n",
    "                tree_dict[tree_name] = tree\n",
    "                tree_names.append(tree_name)\n",
    "                i += 1\n",
    "            tree_wts_dict[tree_id] += 1.0\n",
    "\n",
    "            if truncate and num_trees == truncate + burnin:\n",
    "                break\n",
    "    tree_wts = [tree_wts_dict[tree_dict[tree_name].get_topology_id()]/(num_trees-burnin) for tree_name in tree_names]\n",
    "    if hpd < 1.0:\n",
    "        ordered_wts_idx = np.argsort(tree_wts)[::-1]\n",
    "        cum_wts_arr = np.cumsum([tree_wts[k] for k in ordered_wts_idx])\n",
    "        cut_at = next(x[0] for x in enumerate(cum_wts_arr) if x[1] > hpd)\n",
    "        tree_wts = [tree_wts[k] for k in ordered_wts_idx[:cut_at]]\n",
    "        tree_names = [tree_names[k] for k in ordered_wts_idx[:cut_at]]\n",
    "\n",
    "    return tree_dict, tree_names, tree_wts"
   ],
   "id": "ab9d4ccfcc5e2098",
   "outputs": [],
   "execution_count": 5
  },
  {
   "metadata": {
    "ExecuteTime": {
     "end_time": "2025-01-08T22:30:18.862673Z",
     "start_time": "2025-01-08T22:30:18.860201Z"
    }
   },
   "cell_type": "code",
   "source": "file_path_for_trees = \"/home/piyumal/PHD/Implementation/MLPhylogenetics/vbpi-gnn/data/SBN_param_test_data/sample.data\"",
   "id": "dba6def4c00c80fb",
   "outputs": [],
   "execution_count": 6
  },
  {
   "metadata": {
    "ExecuteTime": {
     "end_time": "2025-01-08T22:30:19.753281Z",
     "start_time": "2025-01-08T22:30:19.749183Z"
    }
   },
   "cell_type": "code",
   "source": "tree_dict_total, tree_names_total = summary_raw(file_path_for_trees)",
   "id": "a3718c693c03cdb9",
   "outputs": [],
   "execution_count": 7
  },
  {
   "metadata": {
    "ExecuteTime": {
     "end_time": "2025-01-08T22:30:20.989404Z",
     "start_time": "2025-01-08T22:30:20.985264Z"
    }
   },
   "cell_type": "code",
   "source": "tree_dict_total",
   "id": "3d288e5155563eff",
   "outputs": [
    {
     "data": {
      "text/plain": [
       "{'tree_1': Tree node '' (0x7028075ee8e),\n",
       " 'tree_2': Tree node '' (0x70280e745c4),\n",
       " 'tree_3': Tree node '' (0x70280c9ddcd)}"
      ]
     },
     "execution_count": 8,
     "metadata": {},
     "output_type": "execute_result"
    }
   ],
   "execution_count": 8
  },
  {
   "metadata": {
    "ExecuteTime": {
     "end_time": "2025-01-08T22:30:22.568593Z",
     "start_time": "2025-01-08T22:30:22.565851Z"
    }
   },
   "cell_type": "code",
   "source": "tree_names_total",
   "id": "9cf9c5f7e5a7ce7d",
   "outputs": [
    {
     "data": {
      "text/plain": [
       "['tree_1', 'tree_2', 'tree_3']"
      ]
     },
     "execution_count": 9,
     "metadata": {},
     "output_type": "execute_result"
    }
   ],
   "execution_count": 9
  },
  {
   "metadata": {},
   "cell_type": "code",
   "outputs": [],
   "execution_count": null,
   "source": "",
   "id": "d581a6650f1bd9ec"
  }
 ],
 "metadata": {
  "kernelspec": {
   "display_name": "Python 3",
   "language": "python",
   "name": "python3"
  },
  "language_info": {
   "codemirror_mode": {
    "name": "ipython",
    "version": 2
   },
   "file_extension": ".py",
   "mimetype": "text/x-python",
   "name": "python",
   "nbconvert_exporter": "python",
   "pygments_lexer": "ipython2",
   "version": "2.7.6"
  }
 },
 "nbformat": 4,
 "nbformat_minor": 5
}
